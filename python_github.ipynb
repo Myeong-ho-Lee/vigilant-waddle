{
 "cells": [
  {
   "cell_type": "code",
   "execution_count": 1,
   "id": "6bdd128a-b8d3-453a-9f65-27c7816d95fa",
   "metadata": {},
   "outputs": [
    {
     "name": "stdout",
     "output_type": "stream",
     "text": [
      "[178.9, 173.5, 166.4, 164.3, 176.9]\n"
     ]
    }
   ],
   "source": [
    "heights = [178.9, 173.5, 166.4, 164.3, 176.9]\n",
    "\n",
    "print(heights)"
   ]
  },
  {
   "cell_type": "code",
   "execution_count": 2,
   "id": "9f2fe20c-0439-4ca0-8f81-26496e7ffa25",
   "metadata": {},
   "outputs": [
    {
     "data": {
      "text/plain": [
       "[]"
      ]
     },
     "execution_count": 2,
     "metadata": {},
     "output_type": "execute_result"
    }
   ],
   "source": [
    "my_friends = []\n",
    "my_friends"
   ]
  },
  {
   "cell_type": "code",
   "execution_count": 3,
   "id": "3bc2b1fb-561d-4d81-b7ab-9587a3ba8b14",
   "metadata": {},
   "outputs": [
    {
     "data": {
      "text/plain": [
       "['v']"
      ]
     },
     "execution_count": 3,
     "metadata": {},
     "output_type": "execute_result"
    }
   ],
   "source": [
    "my_friends.append('v')\n",
    "my_friends"
   ]
  },
  {
   "cell_type": "code",
   "execution_count": 4,
   "id": "dc296bef-a60e-482a-a117-b2167a97bee5",
   "metadata": {},
   "outputs": [
    {
     "data": {
      "text/plain": [
       "['v', 'jungkook']"
      ]
     },
     "execution_count": 4,
     "metadata": {},
     "output_type": "execute_result"
    }
   ],
   "source": [
    "my_friends.append('jungkook')\n",
    "my_friends"
   ]
  },
  {
   "cell_type": "code",
   "execution_count": 5,
   "id": "68d32889-e0f9-45f4-8b25-9cc0b68db739",
   "metadata": {},
   "outputs": [],
   "source": [
    "my_friends = my_friends.append('jimin')\n",
    "my_friends"
   ]
  },
  {
   "cell_type": "code",
   "execution_count": 6,
   "id": "40ef9a2a-484d-468c-85c5-ade7ab945dca",
   "metadata": {},
   "outputs": [
    {
     "name": "stdout",
     "output_type": "stream",
     "text": [
      "None\n"
     ]
    }
   ],
   "source": [
    "print(my_friends)"
   ]
  },
  {
   "cell_type": "code",
   "execution_count": 35,
   "id": "5cda1cbe-f7bc-4dfa-9332-4be2b1083ce3",
   "metadata": {},
   "outputs": [
    {
     "data": {
      "text/plain": [
       "[0, 1, 2, 3, 4, 5, 6, 7, 8, 9]"
      ]
     },
     "execution_count": 35,
     "metadata": {},
     "output_type": "execute_result"
    }
   ],
   "source": [
    "list(range(10))"
   ]
  },
  {
   "cell_type": "code",
   "execution_count": 37,
   "id": "ce8e47c4-93c0-4910-bac4-712e4bff46e4",
   "metadata": {},
   "outputs": [
    {
     "data": {
      "text/plain": [
       "[]"
      ]
     },
     "execution_count": 37,
     "metadata": {},
     "output_type": "execute_result"
    }
   ],
   "source": [
    "her_friends= list()\n",
    "her_friends"
   ]
  },
  {
   "cell_type": "code",
   "execution_count": 38,
   "id": "a30d05db-6011-4aeb-bb57-7ff9ad1320c5",
   "metadata": {},
   "outputs": [
    {
     "data": {
      "text/plain": [
       "[0, 3, 6, 9, 12, 15, 18]"
      ]
     },
     "execution_count": 38,
     "metadata": {},
     "output_type": "execute_result"
    }
   ],
   "source": [
    "list(range(0,20,3))"
   ]
  },
  {
   "cell_type": "code",
   "execution_count": 39,
   "id": "b4a660be-57d5-457a-820b-12cba2d8e5ae",
   "metadata": {},
   "outputs": [],
   "source": [
    "my_friends"
   ]
  },
  {
   "cell_type": "code",
   "execution_count": 43,
   "id": "6f9f1906-d2fc-46d2-8ff6-a3104e594b07",
   "metadata": {},
   "outputs": [
    {
     "data": {
      "text/plain": [
       "['jenie', 'Rose', 'jisoo', 'Lisa']"
      ]
     },
     "execution_count": 43,
     "metadata": {},
     "output_type": "execute_result"
    }
   ],
   "source": [
    "black_pink = ['jenie', 'Rose', 'jisoo', 'Lisa']\n",
    "black_pink"
   ]
  },
  {
   "cell_type": "code",
   "execution_count": 44,
   "id": "9514d0bb-78c7-4ca0-a1b7-87e1963f1c00",
   "metadata": {},
   "outputs": [
    {
     "data": {
      "text/plain": [
       "True"
      ]
     },
     "execution_count": 44,
     "metadata": {},
     "output_type": "execute_result"
    }
   ],
   "source": [
    "'jenie' in black_pink"
   ]
  },
  {
   "cell_type": "code",
   "execution_count": 45,
   "id": "9f6f8571-282c-4eb1-a9e8-1a36ba9049a6",
   "metadata": {},
   "outputs": [
    {
     "data": {
      "text/plain": [
       "False"
      ]
     },
     "execution_count": 45,
     "metadata": {},
     "output_type": "execute_result"
    }
   ],
   "source": [
    "'psy' in black_pink"
   ]
  },
  {
   "cell_type": "code",
   "execution_count": 47,
   "id": "e5d629c5-2246-4798-af56-ae5760bd79f3",
   "metadata": {},
   "outputs": [
    {
     "name": "stdout",
     "output_type": "stream",
     "text": [
      "jenie\n",
      "Rose\n",
      "jisoo\n",
      "Lisa\n"
     ]
    }
   ],
   "source": [
    "for name in black_pink:\n",
    "    print(name)"
   ]
  },
  {
   "cell_type": "code",
   "execution_count": 7,
   "id": "890c286b-2d91-4d34-bd9a-d8f1c3f7706d",
   "metadata": {},
   "outputs": [
    {
     "name": "stdin",
     "output_type": "stream",
     "text": [
      "좋아하는 과일의 이름을 입력하세요: 사과\n",
      "좋아하는 과일의 이름을 입력하세요: 배\n",
      "좋아하는 과일의 이름을 입력하세요: 포도\n",
      "좋아하는 과일의 이름을 입력하세요: 망고\n",
      "좋아하는 과일의 이름을 입력하세요: 수박\n",
      "좋아하는 과일의 이름을 입력하세요: 오이\n",
      "좋아하는 과일의 이름을 입력하세요: 귤\n",
      "좋아하는 과일의 이름을 입력하세요: 오렌지\n",
      "좋아하는 과일의 이름을 입력하세요: 복숭아\n",
      "좋아하는 과일의 이름을 입력하세요: 99\n"
     ]
    },
    {
     "data": {
      "text/plain": [
       "['사과', '배', '포도', '망고', '수박', '오이', '귤', '오렌지', '복숭아']"
      ]
     },
     "execution_count": 7,
     "metadata": {},
     "output_type": "execute_result"
    }
   ],
   "source": [
    "fruits = []\n",
    "\n",
    "while True:\n",
    "    fruit = input('좋아하는 과일의 이름을 입력하세요:')\n",
    "    if fruit == '99': break\n",
    "    fruits.append(fruit)\n",
    "fruits"
   ]
  },
  {
   "cell_type": "code",
   "execution_count": 50,
   "id": "9f7c616e-63c3-4279-8f3b-4f19335aad77",
   "metadata": {},
   "outputs": [
    {
     "name": "stdin",
     "output_type": "stream",
     "text": [
      "과일이름을 입력하세요: 바나나\n"
     ]
    },
    {
     "name": "stdout",
     "output_type": "stream",
     "text": [
      "바나나은 내가 좋아하는 과일이 아닙니다\n"
     ]
    }
   ],
   "source": [
    "fav_fruit = input('과일이름을 입력하세요:')\n",
    "if fav_fruit in fruits:\n",
    "    pritn(f\"{fav_fruit}은 내가 좋아하는 과일이다\")\n",
    "else:\n",
    "    print(f\"{fav_fruit}은 내가 좋아하는 과일이 아닙니다\")"
   ]
  },
  {
   "cell_type": "markdown",
   "id": "df8f0860-9b44-40ad-8fda-5db4fd9470d2",
   "metadata": {},
   "source": [
    "# 자료형을 알고싶으면 type()함수를 사용"
   ]
  },
  {
   "cell_type": "code",
   "execution_count": null,
   "id": "62c33871-e172-4980-b82a-81a4e039d229",
   "metadata": {},
   "outputs": [],
   "source": []
  }
 ],
 "metadata": {
  "kernelspec": {
   "display_name": "Python 3 (ipykernel)",
   "language": "python",
   "name": "python3"
  },
  "language_info": {
   "codemirror_mode": {
    "name": "ipython",
    "version": 3
   },
   "file_extension": ".py",
   "mimetype": "text/x-python",
   "name": "python",
   "nbconvert_exporter": "python",
   "pygments_lexer": "ipython3",
   "version": "3.11.2"
  }
 },
 "nbformat": 4,
 "nbformat_minor": 5
}
